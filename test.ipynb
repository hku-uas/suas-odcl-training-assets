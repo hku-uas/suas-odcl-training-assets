{
 "cells": [
  {
   "cell_type": "code",
   "execution_count": 1,
   "metadata": {
    "collapsed": true,
    "ExecuteTime": {
     "start_time": "2023-04-25T21:14:02.881625Z",
     "end_time": "2023-04-25T21:14:02.957907Z"
    }
   },
   "outputs": [
    {
     "data": {
      "text/plain": "10237"
     },
     "execution_count": 1,
     "metadata": {},
     "output_type": "execute_result"
    }
   ],
   "source": [
    "import os\n",
    "from pathlib import Path\n",
    "\n",
    "len(list(Path(\"output\").glob(\"*.png\")))"
   ]
  },
  {
   "cell_type": "code",
   "execution_count": 2,
   "outputs": [
    {
     "data": {
      "text/plain": "10237"
     },
     "execution_count": 2,
     "metadata": {},
     "output_type": "execute_result"
    }
   ],
   "source": [
    "len(list(Path(\"output\").glob(\"*.json\")))"
   ],
   "metadata": {
    "collapsed": false,
    "ExecuteTime": {
     "start_time": "2023-04-25T21:14:02.961537Z",
     "end_time": "2023-04-25T21:14:03.073553Z"
    }
   }
  },
  {
   "cell_type": "code",
   "execution_count": 3,
   "outputs": [
    {
     "data": {
      "text/plain": "10237"
     },
     "execution_count": 3,
     "metadata": {},
     "output_type": "execute_result"
    }
   ],
   "source": [
    "len(list(Path(\"output\").glob(\"*.txt\")))"
   ],
   "metadata": {
    "collapsed": false,
    "ExecuteTime": {
     "start_time": "2023-04-25T21:14:03.075972Z",
     "end_time": "2023-04-25T21:14:03.159510Z"
    }
   }
  },
  {
   "cell_type": "code",
   "execution_count": 4,
   "outputs": [],
   "source": [
    "json_stem = set([o.stem for o in list(Path(\"output\").glob(\"*.json\"))])"
   ],
   "metadata": {
    "collapsed": false,
    "ExecuteTime": {
     "start_time": "2023-04-25T21:14:07.364855Z",
     "end_time": "2023-04-25T21:14:07.462438Z"
    }
   }
  },
  {
   "cell_type": "code",
   "execution_count": 5,
   "outputs": [],
   "source": [
    "txt_stem = set([o.stem for o in list(Path(\"output\").glob(\"*.txt\"))])"
   ],
   "metadata": {
    "collapsed": false,
    "ExecuteTime": {
     "start_time": "2023-04-25T21:14:07.926782Z",
     "end_time": "2023-04-25T21:14:08.033726Z"
    }
   }
  },
  {
   "cell_type": "code",
   "execution_count": 6,
   "outputs": [],
   "source": [
    "for o in list(txt_stem - json_stem):\n",
    "    os.unlink(Path(\"output\") / f\"{o}.txt\")"
   ],
   "metadata": {
    "collapsed": false,
    "ExecuteTime": {
     "start_time": "2023-04-25T21:14:08.820284Z",
     "end_time": "2023-04-25T21:14:08.826559Z"
    }
   }
  },
  {
   "cell_type": "code",
   "execution_count": 11,
   "outputs": [
    {
     "name": "stderr",
     "output_type": "stream",
     "text": [
      "100%|██████████| 10237/10237 [01:37<00:00, 104.60it/s]\n"
     ]
    }
   ],
   "source": [
    "from tqdm import tqdm\n",
    "\n",
    "owo = list(Path(\"output\").glob(\"*\"))\n",
    "for o in tqdm(list(Path(\"output\").glob(\"*.png\"))):\n",
    "    if Path(\"output\") / f\"{o.stem}.json\" not in owo:\n",
    "        print(f\"{o} json missing\")\n",
    "    if Path(\"output\") / f\"{o.stem}.txt\" not in owo:\n",
    "        print(f\"{o} txt missing\")"
   ],
   "metadata": {
    "collapsed": false,
    "ExecuteTime": {
     "start_time": "2023-04-25T21:18:56.409368Z",
     "end_time": "2023-04-25T21:20:34.531752Z"
    }
   }
  },
  {
   "cell_type": "code",
   "execution_count": null,
   "outputs": [],
   "source": [],
   "metadata": {
    "collapsed": false
   }
  }
 ],
 "metadata": {
  "kernelspec": {
   "display_name": "Python 3",
   "language": "python",
   "name": "python3"
  },
  "language_info": {
   "codemirror_mode": {
    "name": "ipython",
    "version": 2
   },
   "file_extension": ".py",
   "mimetype": "text/x-python",
   "name": "python",
   "nbconvert_exporter": "python",
   "pygments_lexer": "ipython2",
   "version": "2.7.6"
  }
 },
 "nbformat": 4,
 "nbformat_minor": 0
}
