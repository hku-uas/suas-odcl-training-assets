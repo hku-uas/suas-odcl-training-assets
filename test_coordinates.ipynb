{
 "cells": [
  {
   "cell_type": "code",
   "execution_count": 34,
   "metadata": {
    "collapsed": true,
    "ExecuteTime": {
     "start_time": "2023-04-19T22:41:02.640055Z",
     "end_time": "2023-04-19T22:41:02.646411Z"
    }
   },
   "outputs": [],
   "source": [
    "import numpy as np\n",
    "\n",
    "\n",
    "def rotate(coordinates, angle_degrees):\n",
    "    angle_radians = np.radians(angle_degrees)\n",
    "    rotation_matrix = np.array([[np.cos(angle_radians), -np.sin(angle_radians)],\n",
    "                                [np.sin(angle_radians), np.cos(angle_radians)]])\n",
    "    return np.dot(coordinates, rotation_matrix)\n",
    "\n",
    "\n",
    "def scale(coordinates, scale_factors):\n",
    "    scaling_matrix = np.diag(scale_factors)\n",
    "    return np.dot(coordinates, scaling_matrix)\n",
    "\n",
    "\n",
    "def translate(coordinates, translation_vector):\n",
    "    return coordinates + np.array(translation_vector)\n",
    "\n",
    "\n",
    "def transform(coordinates, angle_degrees, scale_factors, translation_vector):\n",
    "    rotated = rotate(coordinates, angle_degrees)\n",
    "    scaled = scale(rotated, scale_factors)\n",
    "    translated = translate(scaled, translation_vector)\n",
    "    return translated"
   ]
  },
  {
   "cell_type": "code",
   "execution_count": 36,
   "outputs": [
    {
     "name": "stdout",
     "output_type": "stream",
     "text": [
      "[[ 1. -1.]\n",
      " [ 2. -1.]\n",
      " [ 1. -2.]]\n"
     ]
    }
   ],
   "source": [
    "coordinates = np.array([[1, 1],\n",
    "                        [1, 2],\n",
    "                        [2, 1]])\n",
    "\n",
    "angle_degrees = 90\n",
    "scale_factors = [1, 1]\n",
    "translation_vector = [0, 0]\n",
    "\n",
    "result = transform(coordinates, angle_degrees, scale_factors, translation_vector)\n",
    "print(result)"
   ],
   "metadata": {
    "collapsed": false,
    "ExecuteTime": {
     "start_time": "2023-04-19T22:41:07.151713Z",
     "end_time": "2023-04-19T22:41:07.156205Z"
    }
   }
  },
  {
   "cell_type": "code",
   "execution_count": null,
   "outputs": [],
   "source": [],
   "metadata": {
    "collapsed": false
   }
  }
 ],
 "metadata": {
  "kernelspec": {
   "display_name": "Python 3",
   "language": "python",
   "name": "python3"
  },
  "language_info": {
   "codemirror_mode": {
    "name": "ipython",
    "version": 2
   },
   "file_extension": ".py",
   "mimetype": "text/x-python",
   "name": "python",
   "nbconvert_exporter": "python",
   "pygments_lexer": "ipython2",
   "version": "2.7.6"
  }
 },
 "nbformat": 4,
 "nbformat_minor": 0
}
